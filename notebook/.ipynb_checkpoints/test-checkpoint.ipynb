{
 "cells": [
  {
   "cell_type": "code",
   "execution_count": 1,
   "metadata": {},
   "outputs": [
    {
     "name": "stderr",
     "output_type": "stream",
     "text": [
      "F:\\environment\\Anaconda3\\lib\\site-packages\\h5py\\__init__.py:36: FutureWarning: Conversion of the second argument of issubdtype from `float` to `np.floating` is deprecated. In future, it will be treated as `np.float64 == np.dtype(float).type`.\n",
      "  from ._conv import register_converters as _register_converters\n"
     ]
    }
   ],
   "source": [
    "import pandas as pd\n",
    "import tensorflow as tf\n",
    "from types import SimpleNamespace\n",
    "from typing import Dict,List,Tuple,Optional\n",
    "\n",
    "#  #####################数据ETL##########################\n",
    "RData = SimpleNamespace()\n",
    "RData.TRAIN_URL = \"http://download.tensorflow.org/data/iris_training.csv\"\n",
    "RData.TEST_URL = \"http://download.tensorflow.org/data/iris_test.csv\"\n",
    "RData.TARGET = 'Species'\n",
    "RData.FEATURE_NAMES = ['SepalLength', 'SepalWidth', 'PetalLength', 'PetalWidth']\n",
    "RData.CSV_COLUMN_NAMES = RData.FEATURE_NAMES + [RData.TARGET]\n",
    "RData.SPECIES = ['Setosa', 'Versicolor', 'Virginica']\n",
    "RData.CSV_TYPES = [[0.0], [0.0], [0.0], [0.0], [0]]\n",
    "\n",
    "ETLData = SimpleNamespace()\n",
    "\n",
    "\n",
    "# extract\n",
    "def maybe_download():\n",
    "    train_path = tf.keras.utils.get_file(RData.TRAIN_URL.split('/')[-1], RData.TRAIN_URL)\n",
    "    test_path = tf.keras.utils.get_file(RData.TEST_URL.split('/')[-1], RData.TEST_URL)\n",
    "    return train_path, test_path\n",
    "\n",
    "\n",
    "# load dataframe\n",
    "def load_data()->Tuple[Tuple[pd.DataFrame, pd.DataFrame], Tuple[pd.DataFrame, pd.DataFrame]]:\n",
    "    train_path, test_path = maybe_download()\n",
    "    train = pd.read_csv(train_path, names=RData.CSV_COLUMN_NAMES, header=0)\n",
    "    test = pd.read_csv(test_path, names=RData.CSV_COLUMN_NAMES, header=0)\n",
    "    train_x, train_y = train, train.pop(RData.TARGET)\n",
    "    test_x, test_y = test, test.pop(RData.TARGET)\n",
    "    return (train_x, train_y), (test_x, test_y)\n",
    "\n",
    "\n",
    "def parse_csv_row(csv_row)->Tuple[Dict[str, tf.Tensor], tf.Tensor]:\n",
    "    columns = tf.decode_csv(csv_row, record_defaults=RData.CSV_TYPES)\n",
    "    features = dict(zip(RData.CSV_COLUMN_NAMES, columns))\n",
    "    target = features.pop(RData.TARGET)\n",
    "    return features, target\n",
    "\n",
    "\n",
    "\n",
    "\n",
    "def csv_input_fn(file_name_pattern, mode=tf.estimator.ModeKeys.EVAL, skip_header_lines=0,\n",
    "                 num_epochs=None, batch_size=200)->tf.data.Dataset:\n",
    "    shuffle = True if mode == tf.estimator.ModeKeys.TRAIN else False\n",
    "    file_names = tf.matching_files(file_name_pattern)\n",
    "    dataset = tf.data.TextLineDataset(file_names)\n",
    "    dataset = dataset.skip(skip_header_lines)\n",
    "    if shuffle:\n",
    "        dataset = dataset.shuffle(buffer_size=2 * batch_size + 1)\n",
    "    dataset = dataset.map(parse_csv_row)\n",
    "    dataset = dataset.batch(batch_size)\n",
    "    dataset = dataset.repeat(num_epochs)\n",
    "    return dataset\n",
    "\n",
    "if __name__==\"__main__\":\n",
    "    train_path, test_path = maybe_download()\n",
    "    dataset = csv_input_fn(train_path)\n",
    "\n",
    "\n"
   ]
  },
  {
   "cell_type": "code",
   "execution_count": 8,
   "metadata": {},
   "outputs": [
    {
     "data": {
      "text/plain": [
       "<bound method Dataset.shard of <RepeatDataset shapes: ({SepalLength: (?,), SepalWidth: (?,), PetalLength: (?,), PetalWidth: (?,)}, (?,)), types: ({SepalLength: tf.float32, SepalWidth: tf.float32, PetalLength: tf.float32, PetalWidth: tf.float32}, tf.int32)>>"
      ]
     },
     "execution_count": 8,
     "metadata": {},
     "output_type": "execute_result"
    }
   ],
   "source": [
    "dataset.shard"
   ]
  },
  {
   "cell_type": "code",
   "execution_count": null,
   "metadata": {},
   "outputs": [],
   "source": []
  }
 ],
 "metadata": {
  "kernelspec": {
   "display_name": "Python 3",
   "language": "python",
   "name": "python3"
  },
  "language_info": {
   "codemirror_mode": {
    "name": "ipython",
    "version": 3
   },
   "file_extension": ".py",
   "mimetype": "text/x-python",
   "name": "python",
   "nbconvert_exporter": "python",
   "pygments_lexer": "ipython3",
   "version": "3.6.4"
  }
 },
 "nbformat": 4,
 "nbformat_minor": 1
}
